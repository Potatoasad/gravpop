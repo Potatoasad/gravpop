{
 "cells": [
  {
   "cell_type": "code",
   "execution_count": null,
   "id": "8afc2054-090d-4a18-a465-3f05ed7f876f",
   "metadata": {},
   "outputs": [],
   "source": [
    "from bilby.core.prior import ConditionalPriorDict\n",
    "\n",
    "ConditionalPriorDict(filename=)"
   ]
  }
 ],
 "metadata": {
  "kernelspec": {
   "display_name": "Python 3 (ipykernel)",
   "language": "python",
   "name": "python3"
  },
  "language_info": {
   "name": ""
  }
 },
 "nbformat": 4,
 "nbformat_minor": 5
}
